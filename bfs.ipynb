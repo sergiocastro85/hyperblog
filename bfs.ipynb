{
  "cells": [
    {
      "cell_type": "markdown",
      "metadata": {
        "id": "view-in-github",
        "colab_type": "text"
      },
      "source": [
        "<a href=\"https://colab.research.google.com/github/sergiocastro85/hyperblog/blob/master/bfs.ipynb\" target=\"_parent\"><img src=\"https://colab.research.google.com/assets/colab-badge.svg\" alt=\"Open In Colab\"/></a>"
      ]
    },
    {
      "cell_type": "markdown",
      "source": [
        "instalar libreria treelib"
      ],
      "metadata": {
        "id": "SLpRe3BudqsP"
      }
    },
    {
      "cell_type": "code",
      "source": [
        "!pip install treelib"
      ],
      "metadata": {
        "colab": {
          "base_uri": "https://localhost:8080/"
        },
        "id": "PhZzBGK1byTk",
        "outputId": "d035882b-3cac-473c-88b9-0d07020c3a47"
      },
      "execution_count": 1,
      "outputs": [
        {
          "output_type": "stream",
          "name": "stdout",
          "text": [
            "Requirement already satisfied: treelib in /usr/local/lib/python3.7/dist-packages (1.6.1)\n",
            "Requirement already satisfied: future in /usr/local/lib/python3.7/dist-packages (from treelib) (0.16.0)\n"
          ]
        }
      ]
    },
    {
      "cell_type": "code",
      "source": [
        "#importar \n",
        "from treelib import Tree"
      ],
      "metadata": {
        "id": "9Qz-vJyUdbOx"
      },
      "execution_count": 2,
      "outputs": []
    },
    {
      "cell_type": "code",
      "source": [
        "#Instanciar un arbol\n",
        "g=Tree()"
      ],
      "metadata": {
        "id": "f1X7VLJie0TV"
      },
      "execution_count": null,
      "outputs": []
    },
    {
      "cell_type": "code",
      "source": [
        "grafo={'U':{'V':2,'X':1,'W':5},\n",
        "       'X':{'U':1,'V':2,'W':3,'Y':1},\n",
        "       'V':{'U':2,'X':2,'W':3},\n",
        "       'Y':{'X':1,'W':1,'Z':2},\n",
        "       'W':{'V':3,'X':3,'Y':1,'Z':5},\n",
        "       'Z':{'Y':2,'W':5}}"
      ],
      "metadata": {
        "id": "MvEjcp4LAfuX"
      },
      "execution_count": null,
      "outputs": []
    },
    {
      "cell_type": "code",
      "source": [
        "pq=[]\n",
        "visitados=[]\n",
        "id=1\n",
        "\n",
        "g=Tree()\n",
        "\n",
        "nodo=g.create_node(tag='U',data=['U',0],identifier=id)\n",
        "\n",
        "pq.append(nodo)\n",
        "\n",
        "while len(pq) !=0:\n",
        "  pq.sort(key=lambda X:X.data[1])\n",
        "  nodo_actual=pq.pop(0)\n",
        "  costo_actual=nodo_actual.data[1]\n",
        "  if nodo_actual.tag=='Z':\n",
        "    g.show()\n",
        "  visitados.append(nodo_actual.tag)\n",
        "  hijos=list(grafo[nodo_actual.tag].items())\n",
        "  for hijo in hijos:\n",
        "    id=id+1\n",
        "    nodo_hijo=g.create_node(tag=hijo[0],data=list(hijo),identifier=id,parent=nodo_actual.identifier)\n",
        "    costo_hijo=hijo[1]\n",
        "    costo_acumulado=costo_actual+costo_hijo\n",
        "    if hijo[0]not in visitados:\n",
        "      lista=[nodo.tag for nodo in pq]\n",
        "      if hijo[0] in lista:\n",
        "        index=lista.index(hijo[0])\n",
        "        if costo_acumulado < pq[index].data[1]:\n",
        "          pq[index].data[1]=costo_hijo\n",
        "      else:\n",
        "        pq.append(nodo_hijo)\n"
      ],
      "metadata": {
        "colab": {
          "base_uri": "https://localhost:8080/"
        },
        "id": "1f6PZtM9CRup",
        "outputId": "d911b89e-0130-4cb2-d564-72bf187a6dce"
      },
      "execution_count": null,
      "outputs": [
        {
          "output_type": "stream",
          "name": "stdout",
          "text": [
            "U\n",
            "├── V\n",
            "│   ├── U\n",
            "│   ├── W\n",
            "│   └── X\n",
            "├── W\n",
            "│   ├── V\n",
            "│   ├── X\n",
            "│   ├── Y\n",
            "│   └── Z\n",
            "└── X\n",
            "    ├── U\n",
            "    ├── V\n",
            "    ├── W\n",
            "    └── Y\n",
            "        ├── W\n",
            "        ├── X\n",
            "        └── Z\n",
            "\n"
          ]
        }
      ]
    },
    {
      "cell_type": "code",
      "source": [
        "d=g.nodes\n",
        "for clave in d:\n",
        "  if g.is_ancestor (d[clave].identifier, nodo_actual.identifier):\n",
        "    print (d[clave].data)\n",
        "print (nodo_actual.data)\n"
      ],
      "metadata": {
        "colab": {
          "base_uri": "https://localhost:8080/"
        },
        "id": "wRvggAXFN1yl",
        "outputId": "02e0a18e-2b3f-4dbf-8660-3f739d86cec9"
      },
      "execution_count": null,
      "outputs": [
        {
          "output_type": "stream",
          "name": "stdout",
          "text": [
            "['U', 0]\n",
            "['X', 1]\n",
            "['Y', 1]\n",
            "['Z', 2]\n"
          ]
        }
      ]
    },
    {
      "cell_type": "code",
      "source": [
        "#DEFINIR FUNCION EXPANDIR NODO\n",
        "\n",
        "def expandirnodo(estadoactual):\n",
        "  L=[]\n",
        "  if estadoactual==\"A\":\n",
        "    L=[\"B\",\"C\"]\n",
        "  elif estadoactual==\"B\":\n",
        "    L=[\"Z\"]\n",
        "  elif estadoactual==\"Z\":\n",
        "    L=[\"D\",\"F\"]\n",
        "  elif estadoactual==\"C\":\n",
        "    L=[\"F\",\"G\",\"H\"]\n",
        "  elif estadoactual==\"F\":\n",
        "    L=[\"I\"]\n",
        "  elif estadoactual==\"G\":\n",
        "    L=[\"J\"]\n",
        "  elif estadoactual==\"H\":\n",
        "    L=[\"K\"]\n",
        "  elif estadoactual==\"K\":\n",
        "    L=[\"L\"]\n",
        "  return L"
      ],
      "metadata": {
        "id": "F19us3rJlMuD"
      },
      "execution_count": 37,
      "outputs": []
    },
    {
      "cell_type": "code",
      "source": [
        "from typing_extensions import ParamSpec\n",
        "#Estado inial A, estado Objetivo L\n",
        "Q=[]\n",
        "T=Tree()\n",
        "V=[]\n",
        "Q.append(\"A\")\n",
        "V.append(\"B\")\n",
        "T.create_node(tag=\"A\",identifier=\"A\",data=\"A\")\n",
        "while len(Q)!=0:\n",
        "  pos_actual=Q.pop(0)\n",
        "  hijos=expandirnodo(pos_actual)\n",
        "  for hijo in hijos:\n",
        "    if hijo not in V:\n",
        "      T.create_node(tag=hijo,identifier=hijo,parent=pos_actual,data=hijo)\n",
        "      V.append(hijo)\n",
        "      Q.append(hijo)\n",
        "      if hijo==\"L\":\n",
        "        T.show()\n",
        "##print(\"no Hay Solución\")\n",
        "  "
      ],
      "metadata": {
        "colab": {
          "base_uri": "https://localhost:8080/"
        },
        "id": "W7rNbrNDjD2I",
        "outputId": "61435cb9-aff2-4905-a74c-9be66b717161"
      },
      "execution_count": 45,
      "outputs": [
        {
          "output_type": "stream",
          "name": "stdout",
          "text": [
            "A\n",
            "└── C\n",
            "    ├── F\n",
            "    │   └── I\n",
            "    ├── G\n",
            "    │   └── J\n",
            "    └── H\n",
            "        └── K\n",
            "            └── L\n",
            "\n"
          ]
        }
      ]
    },
    {
      "cell_type": "code",
      "source": [
        "import numpy as np"
      ],
      "metadata": {
        "id": "lt6wAeBcSY6y"
      },
      "execution_count": 3,
      "outputs": []
    },
    {
      "cell_type": "code",
      "source": [
        "N=5\n",
        "\n",
        "l=[]\n",
        "\n",
        "datos=[1,2,3,4,5,6,0,0,0,7,8,9,10,11,12,13,0,0,14,0,0,0,0,0,0]\n",
        "\n",
        "matriz=np.array(datos).reshape(N,N)\n",
        "\n",
        "\n",
        "def expandirnodo(tablero, posactual):\n",
        "  L=[]\n",
        "  filactual=np.where(tablero==posactual)[0][0] #.where fila columna\n",
        "  columnactual=np.where(tablero==posactual)[1][0]#\n",
        "  \n",
        "  if filactual!=tablero.shape[0]-1: ##tamaño restamos 1 \n",
        "\n",
        "    pos=tablero[filactual+1][columnactual] ##derecha\n",
        "    if pos!=0:\n",
        "      L.append(pos)\n",
        "  \n",
        "  if filactual !=0:\n",
        "    pos=tablero[filactual-1][columnactual] ##izquierda\n",
        "    if pos!=0:\n",
        "      L.append(pos)\n",
        "\n",
        "  if columnactual!=tablero.shape[1]-1:\n",
        "    pos=tablero[filactual][columnactual+1] #abajo\n",
        "    if pos!=0:\n",
        "      L.append(pos)\n",
        "  \n",
        "  if columnactual!=0:\n",
        "    pos=tablero[filactual][columnactual-1]#arriba\n",
        "    if pos!=0:\n",
        "      L.append(pos)\n",
        "  \n",
        "  return L\n",
        "\n",
        "\n",
        "resultado=expandirnodo(matriz,14)\n",
        "\n",
        "#expandirnodo(matriz,14)\n",
        "#print(matriz[0][0])\n",
        "print(matriz)\n",
        "print(resultado)\n",
        "\n",
        "#print(np.where(matriz==11)[0][0])\n",
        "\n",
        "\n",
        "#l.append(matriz[0:1])\n",
        "\n",
        "\n",
        "#print(l)"
      ],
      "metadata": {
        "colab": {
          "base_uri": "https://localhost:8080/"
        },
        "id": "oz0Wv2qRVy70",
        "outputId": "32b83866-3fa2-4f2e-f56e-a39782ec722b"
      },
      "execution_count": 12,
      "outputs": [
        {
          "output_type": "stream",
          "name": "stdout",
          "text": [
            "[[ 1  2  3  4  5]\n",
            " [ 6  0  0  0  7]\n",
            " [ 8  9 10 11 12]\n",
            " [13  0  0 14  0]\n",
            " [ 0  0  0  0  0]]\n",
            "[11]\n"
          ]
        }
      ]
    },
    {
      "cell_type": "code",
      "source": [
        "Q=[]\n",
        "T=Tree()\n",
        "V=[]\n",
        "Q.append(11)\n",
        "V.append(11)\n",
        "T.create_node(tag=11,identifier=11,data=11)\n",
        "while len(Q)!=0:\n",
        "  pos_actual=Q.pop(0)\n",
        "  hijos=expandirnodo(matriz,pos_actual)\n",
        "  for hijo in hijos:\n",
        "    if hijo not in V:\n",
        "      T.create_node(tag=hijo,identifier=hijo,parent=pos_actual,data=hijo)\n",
        "      V.append(hijo)\n",
        "      Q.append(hijo)\n",
        "      if hijo==1:\n",
        "        T.show()\n",
        "##print(\"no Hay Solución\")"
      ],
      "metadata": {
        "colab": {
          "base_uri": "https://localhost:8080/"
        },
        "id": "5ROJQIQsXETb",
        "outputId": "f0f2b525-57be-4161-c781-e3305160f028"
      },
      "execution_count": 14,
      "outputs": [
        {
          "output_type": "stream",
          "name": "stdout",
          "text": [
            "11\n",
            "├── 10\n",
            "│   └── 9\n",
            "│       └── 8\n",
            "│           ├── 6\n",
            "│           │   └── 1\n",
            "│           └── 13\n",
            "├── 12\n",
            "│   └── 7\n",
            "│       └── 5\n",
            "│           └── 4\n",
            "│               └── 3\n",
            "└── 14\n",
            "\n"
          ]
        }
      ]
    },
    {
      "cell_type": "code",
      "source": [
        "T.show()"
      ],
      "metadata": {
        "colab": {
          "base_uri": "https://localhost:8080/"
        },
        "id": "d7Jz9S2amxRM",
        "outputId": "36e901b0-3f67-4a7c-f6e9-ea233e2c9a7e"
      },
      "execution_count": 6,
      "outputs": [
        {
          "output_type": "stream",
          "name": "stdout",
          "text": [
            "11\n",
            "├── 10\n",
            "├── 12\n",
            "└── 14\n",
            "\n"
          ]
        }
      ]
    },
    {
      "cell_type": "code",
      "source": [
        "def bfs (tablero, posinicial, posfinal):\n",
        "  Q=[]\n",
        "  T=Tree()\n",
        "  V=[]\n",
        "  Q.append(posinicial)\n",
        "  V.append(posinicial)\n",
        "  T.create_node(tag=posinicial,identifier=posinicial,data=posinicial)\n",
        "  while len(Q)!=0:\n",
        "    pos_actual=Q.pop(0)\n",
        "    hijos=expandirnodo(tablero,pos_actual)\n",
        "    for hijo in hijos:\n",
        "      if hijo not in V:\n",
        "        T.create_node(tag=hijo,identifier=hijo,parent=pos_actual,data=hijo)\n",
        "        V.append(hijo)\n",
        "        Q.append(hijo)\n",
        "        if hijo==posfinal:\n",
        "          T.show()\n",
        "  if hijo!=posfinal:\n",
        "    print(\"no Hay Solución\")\n",
        "bfs(matriz,1,1)\n"
      ],
      "metadata": {
        "colab": {
          "base_uri": "https://localhost:8080/"
        },
        "id": "wIHRn_keocNy",
        "outputId": "9e9db0e3-8234-428b-ec83-1217203cd96c"
      },
      "execution_count": 17,
      "outputs": [
        {
          "output_type": "stream",
          "name": "stdout",
          "text": [
            "no Hay Solución\n"
          ]
        }
      ]
    }
  ],
  "metadata": {
    "colab": {
      "collapsed_sections": [],
      "name": "Te damos la bienvenida a Colaboratory",
      "toc_visible": true,
      "provenance": [],
      "include_colab_link": true
    },
    "kernelspec": {
      "display_name": "Python 3",
      "name": "python3"
    }
  },
  "nbformat": 4,
  "nbformat_minor": 0
}